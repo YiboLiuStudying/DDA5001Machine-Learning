{
  "cells": [
    {
      "cell_type": "markdown",
      "metadata": {
        "id": "9yFFKuDZB_ow"
      },
      "source": [
        "# Prompt Enginnering\n",
        "### **Course Name:** Natural Language Processing **<font color=\"red\">(CSC5051)</font>**\n",
        "\n",
        "\n"
      ]
    },
    {
      "cell_type": "markdown",
      "metadata": {
        "id": "Y_qFy6J9EgJe"
      },
      "source": [
        "Hello, everyone.\n",
        "In this tutorial, we'll explore *Prompt Engineering* techniques.\n",
        "\n",
        "**<font color=\"blue\">What is prompt engineering in AI?</font>**\n",
        "\n",
        "An AI prompt is a carefully crafted instruction given to an AI model to generate a specific output. These inputs can range from text and images to videos or even music.\n",
        "\n",
        "Prompt engineering means writing precise instructions that guide AI models like **ChatGPT** to produce specific and useful responses. It involves designing inputs that an AI can easily understand and act upon, ensuring the output is relevant and accurate."
      ]
    },
    {
      "cell_type": "markdown",
      "metadata": {
        "id": "iEiLphcKt6Ya"
      },
      "source": [
        "## **The First Step: Mastering the Use of APIs**\n",
        "\n"
      ]
    },
    {
      "cell_type": "markdown",
      "metadata": {
        "id": "lR37y8eVuG8V"
      },
      "source": [
        "### About API Keys\n",
        "#### DeepSeek API Keys\n",
        "❗ Note that you can go [Deepseek](https://platform.deepseek.com/api_keys) to get your api key. Alternatively,  youbcan go to [Siliconflow](https://cloud.siliconflow.cn/) for free credit:\n",
        "- Go to the website [https://platform.deepseek.com/api_keys](https://platform.deepseek.com/api_keys).\n",
        "- Setup your api key through setting the environment variable os.environ[\"DEEPSEEK_API_KEY\"]\n",
        "- Remember to update `DEEPSEEK_BASE_URL` to https://api.siliconflow.cn/v1/chat/completions when using API from SiliconFlow.\n",
        "\n",
        "#### OpenAI API Keys\n",
        "Note that we provide a key with 100 US dollars, if it is used up you need to buy the Keys yourself (it may cost you a little bit of money), here is how to buy the keys:\n",
        "- Go to the website [https://eylink.cn/](https://eylink.cn/buy/7).\n",
        "- Purchase a 12 RMB key (10 US dollars). (10 dollars should be enough.)\n",
        "- Fill in the `OPENAI_API_KEY` below with the key you purchased."
      ]
    },
    {
      "cell_type": "markdown",
      "metadata": {
        "id": "OOubmZd8vGl6"
      },
      "source": [
        "🔅 To facilitate easier access to OpenAI's model APIs, we make use of a popular framework langchain."
      ]
    },
    {
      "cell_type": "code",
      "execution_count": null,
      "metadata": {
        "colab": {
          "base_uri": "https://localhost:8080/"
        },
        "collapsed": true,
        "id": "OWx2mmC-fFuP",
        "outputId": "347d3d59-cfc6-484d-a512-f9f34ab21d55"
      },
      "outputs": [
        {
          "name": "stdout",
          "output_type": "stream",
          "text": [
            "Requirement already satisfied: langchain in /usr/local/lib/python3.12/dist-packages (0.3.27)\n",
            "Requirement already satisfied: langchain-core<1.0.0,>=0.3.72 in /usr/local/lib/python3.12/dist-packages (from langchain) (0.3.79)\n",
            "Requirement already satisfied: langchain-text-splitters<1.0.0,>=0.3.9 in /usr/local/lib/python3.12/dist-packages (from langchain) (0.3.11)\n",
            "Requirement already satisfied: langsmith>=0.1.17 in /usr/local/lib/python3.12/dist-packages (from langchain) (0.4.38)\n",
            "Requirement already satisfied: pydantic<3.0.0,>=2.7.4 in /usr/local/lib/python3.12/dist-packages (from langchain) (2.11.10)\n",
            "Requirement already satisfied: SQLAlchemy<3,>=1.4 in /usr/local/lib/python3.12/dist-packages (from langchain) (2.0.44)\n",
            "Requirement already satisfied: requests<3,>=2 in /usr/local/lib/python3.12/dist-packages (from langchain) (2.32.4)\n",
            "Requirement already satisfied: PyYAML>=5.3 in /usr/local/lib/python3.12/dist-packages (from langchain) (6.0.3)\n",
            "Requirement already satisfied: tenacity!=8.4.0,<10.0.0,>=8.1.0 in /usr/local/lib/python3.12/dist-packages (from langchain-core<1.0.0,>=0.3.72->langchain) (8.5.0)\n",
            "Requirement already satisfied: jsonpatch<2.0.0,>=1.33.0 in /usr/local/lib/python3.12/dist-packages (from langchain-core<1.0.0,>=0.3.72->langchain) (1.33)\n",
            "Requirement already satisfied: typing-extensions<5.0.0,>=4.7.0 in /usr/local/lib/python3.12/dist-packages (from langchain-core<1.0.0,>=0.3.72->langchain) (4.15.0)\n",
            "Requirement already satisfied: packaging<26.0.0,>=23.2.0 in /usr/local/lib/python3.12/dist-packages (from langchain-core<1.0.0,>=0.3.72->langchain) (25.0)\n",
            "Requirement already satisfied: httpx<1,>=0.23.0 in /usr/local/lib/python3.12/dist-packages (from langsmith>=0.1.17->langchain) (0.28.1)\n",
            "Requirement already satisfied: orjson>=3.9.14 in /usr/local/lib/python3.12/dist-packages (from langsmith>=0.1.17->langchain) (3.11.4)\n",
            "Requirement already satisfied: requests-toolbelt>=1.0.0 in /usr/local/lib/python3.12/dist-packages (from langsmith>=0.1.17->langchain) (1.0.0)\n",
            "Requirement already satisfied: zstandard>=0.23.0 in /usr/local/lib/python3.12/dist-packages (from langsmith>=0.1.17->langchain) (0.25.0)\n",
            "Requirement already satisfied: annotated-types>=0.6.0 in /usr/local/lib/python3.12/dist-packages (from pydantic<3.0.0,>=2.7.4->langchain) (0.7.0)\n",
            "Requirement already satisfied: pydantic-core==2.33.2 in /usr/local/lib/python3.12/dist-packages (from pydantic<3.0.0,>=2.7.4->langchain) (2.33.2)\n",
            "Requirement already satisfied: typing-inspection>=0.4.0 in /usr/local/lib/python3.12/dist-packages (from pydantic<3.0.0,>=2.7.4->langchain) (0.4.2)\n",
            "Requirement already satisfied: charset_normalizer<4,>=2 in /usr/local/lib/python3.12/dist-packages (from requests<3,>=2->langchain) (3.4.4)\n",
            "Requirement already satisfied: idna<4,>=2.5 in /usr/local/lib/python3.12/dist-packages (from requests<3,>=2->langchain) (3.11)\n",
            "Requirement already satisfied: urllib3<3,>=1.21.1 in /usr/local/lib/python3.12/dist-packages (from requests<3,>=2->langchain) (2.5.0)\n",
            "Requirement already satisfied: certifi>=2017.4.17 in /usr/local/lib/python3.12/dist-packages (from requests<3,>=2->langchain) (2025.10.5)\n",
            "Requirement already satisfied: greenlet>=1 in /usr/local/lib/python3.12/dist-packages (from SQLAlchemy<3,>=1.4->langchain) (3.2.4)\n",
            "Requirement already satisfied: anyio in /usr/local/lib/python3.12/dist-packages (from httpx<1,>=0.23.0->langsmith>=0.1.17->langchain) (4.11.0)\n",
            "Requirement already satisfied: httpcore==1.* in /usr/local/lib/python3.12/dist-packages (from httpx<1,>=0.23.0->langsmith>=0.1.17->langchain) (1.0.9)\n",
            "Requirement already satisfied: h11>=0.16 in /usr/local/lib/python3.12/dist-packages (from httpcore==1.*->httpx<1,>=0.23.0->langsmith>=0.1.17->langchain) (0.16.0)\n",
            "Requirement already satisfied: jsonpointer>=1.9 in /usr/local/lib/python3.12/dist-packages (from jsonpatch<2.0.0,>=1.33.0->langchain-core<1.0.0,>=0.3.72->langchain) (3.0.0)\n",
            "Requirement already satisfied: sniffio>=1.1 in /usr/local/lib/python3.12/dist-packages (from anyio->httpx<1,>=0.23.0->langsmith>=0.1.17->langchain) (1.3.1)\n",
            "Requirement already satisfied: langchain-openai in /usr/local/lib/python3.12/dist-packages (1.0.1)\n",
            "Collecting langchain-core<2.0.0,>=1.0.0 (from langchain-openai)\n",
            "  Using cached langchain_core-1.0.2-py3-none-any.whl.metadata (3.5 kB)\n",
            "Requirement already satisfied: openai<3.0.0,>=1.109.1 in /usr/local/lib/python3.12/dist-packages (from langchain-openai) (1.109.1)\n",
            "Requirement already satisfied: tiktoken<1.0.0,>=0.7.0 in /usr/local/lib/python3.12/dist-packages (from langchain-openai) (0.12.0)\n",
            "Requirement already satisfied: jsonpatch<2.0.0,>=1.33.0 in /usr/local/lib/python3.12/dist-packages (from langchain-core<2.0.0,>=1.0.0->langchain-openai) (1.33)\n",
            "Requirement already satisfied: langsmith<1.0.0,>=0.3.45 in /usr/local/lib/python3.12/dist-packages (from langchain-core<2.0.0,>=1.0.0->langchain-openai) (0.4.38)\n",
            "Requirement already satisfied: packaging<26.0.0,>=23.2.0 in /usr/local/lib/python3.12/dist-packages (from langchain-core<2.0.0,>=1.0.0->langchain-openai) (25.0)\n",
            "Requirement already satisfied: pydantic<3.0.0,>=2.7.4 in /usr/local/lib/python3.12/dist-packages (from langchain-core<2.0.0,>=1.0.0->langchain-openai) (2.11.10)\n",
            "Requirement already satisfied: pyyaml<7.0.0,>=5.3.0 in /usr/local/lib/python3.12/dist-packages (from langchain-core<2.0.0,>=1.0.0->langchain-openai) (6.0.3)\n",
            "Requirement already satisfied: tenacity!=8.4.0,<10.0.0,>=8.1.0 in /usr/local/lib/python3.12/dist-packages (from langchain-core<2.0.0,>=1.0.0->langchain-openai) (8.5.0)\n",
            "Requirement already satisfied: typing-extensions<5.0.0,>=4.7.0 in /usr/local/lib/python3.12/dist-packages (from langchain-core<2.0.0,>=1.0.0->langchain-openai) (4.15.0)\n",
            "Requirement already satisfied: anyio<5,>=3.5.0 in /usr/local/lib/python3.12/dist-packages (from openai<3.0.0,>=1.109.1->langchain-openai) (4.11.0)\n",
            "Requirement already satisfied: distro<2,>=1.7.0 in /usr/local/lib/python3.12/dist-packages (from openai<3.0.0,>=1.109.1->langchain-openai) (1.9.0)\n",
            "Requirement already satisfied: httpx<1,>=0.23.0 in /usr/local/lib/python3.12/dist-packages (from openai<3.0.0,>=1.109.1->langchain-openai) (0.28.1)\n",
            "Requirement already satisfied: jiter<1,>=0.4.0 in /usr/local/lib/python3.12/dist-packages (from openai<3.0.0,>=1.109.1->langchain-openai) (0.11.1)\n",
            "Requirement already satisfied: sniffio in /usr/local/lib/python3.12/dist-packages (from openai<3.0.0,>=1.109.1->langchain-openai) (1.3.1)\n",
            "Requirement already satisfied: tqdm>4 in /usr/local/lib/python3.12/dist-packages (from openai<3.0.0,>=1.109.1->langchain-openai) (4.67.1)\n",
            "Requirement already satisfied: regex>=2022.1.18 in /usr/local/lib/python3.12/dist-packages (from tiktoken<1.0.0,>=0.7.0->langchain-openai) (2024.11.6)\n",
            "Requirement already satisfied: requests>=2.26.0 in /usr/local/lib/python3.12/dist-packages (from tiktoken<1.0.0,>=0.7.0->langchain-openai) (2.32.4)\n",
            "Requirement already satisfied: idna>=2.8 in /usr/local/lib/python3.12/dist-packages (from anyio<5,>=3.5.0->openai<3.0.0,>=1.109.1->langchain-openai) (3.11)\n",
            "Requirement already satisfied: certifi in /usr/local/lib/python3.12/dist-packages (from httpx<1,>=0.23.0->openai<3.0.0,>=1.109.1->langchain-openai) (2025.10.5)\n",
            "Requirement already satisfied: httpcore==1.* in /usr/local/lib/python3.12/dist-packages (from httpx<1,>=0.23.0->openai<3.0.0,>=1.109.1->langchain-openai) (1.0.9)\n",
            "Requirement already satisfied: h11>=0.16 in /usr/local/lib/python3.12/dist-packages (from httpcore==1.*->httpx<1,>=0.23.0->openai<3.0.0,>=1.109.1->langchain-openai) (0.16.0)\n",
            "Requirement already satisfied: jsonpointer>=1.9 in /usr/local/lib/python3.12/dist-packages (from jsonpatch<2.0.0,>=1.33.0->langchain-core<2.0.0,>=1.0.0->langchain-openai) (3.0.0)\n",
            "Requirement already satisfied: orjson>=3.9.14 in /usr/local/lib/python3.12/dist-packages (from langsmith<1.0.0,>=0.3.45->langchain-core<2.0.0,>=1.0.0->langchain-openai) (3.11.4)\n",
            "Requirement already satisfied: requests-toolbelt>=1.0.0 in /usr/local/lib/python3.12/dist-packages (from langsmith<1.0.0,>=0.3.45->langchain-core<2.0.0,>=1.0.0->langchain-openai) (1.0.0)\n",
            "Requirement already satisfied: zstandard>=0.23.0 in /usr/local/lib/python3.12/dist-packages (from langsmith<1.0.0,>=0.3.45->langchain-core<2.0.0,>=1.0.0->langchain-openai) (0.25.0)\n",
            "Requirement already satisfied: annotated-types>=0.6.0 in /usr/local/lib/python3.12/dist-packages (from pydantic<3.0.0,>=2.7.4->langchain-core<2.0.0,>=1.0.0->langchain-openai) (0.7.0)\n",
            "Requirement already satisfied: pydantic-core==2.33.2 in /usr/local/lib/python3.12/dist-packages (from pydantic<3.0.0,>=2.7.4->langchain-core<2.0.0,>=1.0.0->langchain-openai) (2.33.2)\n",
            "Requirement already satisfied: typing-inspection>=0.4.0 in /usr/local/lib/python3.12/dist-packages (from pydantic<3.0.0,>=2.7.4->langchain-core<2.0.0,>=1.0.0->langchain-openai) (0.4.2)\n",
            "Requirement already satisfied: charset_normalizer<4,>=2 in /usr/local/lib/python3.12/dist-packages (from requests>=2.26.0->tiktoken<1.0.0,>=0.7.0->langchain-openai) (3.4.4)\n",
            "Requirement already satisfied: urllib3<3,>=1.21.1 in /usr/local/lib/python3.12/dist-packages (from requests>=2.26.0->tiktoken<1.0.0,>=0.7.0->langchain-openai) (2.5.0)\n",
            "Using cached langchain_core-1.0.2-py3-none-any.whl (469 kB)\n",
            "Installing collected packages: langchain-core\n",
            "  Attempting uninstall: langchain-core\n",
            "    Found existing installation: langchain-core 0.3.79\n",
            "    Uninstalling langchain-core-0.3.79:\n",
            "      Successfully uninstalled langchain-core-0.3.79\n",
            "\u001b[31mERROR: pip's dependency resolver does not currently take into account all the packages that are installed. This behaviour is the source of the following dependency conflicts.\n",
            "langchain 0.3.27 requires langchain-core<1.0.0,>=0.3.72, but you have langchain-core 1.0.2 which is incompatible.\u001b[0m\u001b[31m\n",
            "\u001b[0mSuccessfully installed langchain-core-1.0.2\n",
            "Requirement already satisfied: langchain-deepseek in /usr/local/lib/python3.12/dist-packages (1.0.0)\n",
            "Requirement already satisfied: langchain-core<2.0.0,>=1.0.0 in /usr/local/lib/python3.12/dist-packages (from langchain-deepseek) (1.0.2)\n",
            "Requirement already satisfied: langchain-openai<2.0.0,>=1.0.0 in /usr/local/lib/python3.12/dist-packages (from langchain-deepseek) (1.0.1)\n",
            "Requirement already satisfied: jsonpatch<2.0.0,>=1.33.0 in /usr/local/lib/python3.12/dist-packages (from langchain-core<2.0.0,>=1.0.0->langchain-deepseek) (1.33)\n",
            "Requirement already satisfied: langsmith<1.0.0,>=0.3.45 in /usr/local/lib/python3.12/dist-packages (from langchain-core<2.0.0,>=1.0.0->langchain-deepseek) (0.4.38)\n",
            "Requirement already satisfied: packaging<26.0.0,>=23.2.0 in /usr/local/lib/python3.12/dist-packages (from langchain-core<2.0.0,>=1.0.0->langchain-deepseek) (25.0)\n",
            "Requirement already satisfied: pydantic<3.0.0,>=2.7.4 in /usr/local/lib/python3.12/dist-packages (from langchain-core<2.0.0,>=1.0.0->langchain-deepseek) (2.11.10)\n",
            "Requirement already satisfied: pyyaml<7.0.0,>=5.3.0 in /usr/local/lib/python3.12/dist-packages (from langchain-core<2.0.0,>=1.0.0->langchain-deepseek) (6.0.3)\n",
            "Requirement already satisfied: tenacity!=8.4.0,<10.0.0,>=8.1.0 in /usr/local/lib/python3.12/dist-packages (from langchain-core<2.0.0,>=1.0.0->langchain-deepseek) (8.5.0)\n",
            "Requirement already satisfied: typing-extensions<5.0.0,>=4.7.0 in /usr/local/lib/python3.12/dist-packages (from langchain-core<2.0.0,>=1.0.0->langchain-deepseek) (4.15.0)\n",
            "Requirement already satisfied: openai<3.0.0,>=1.109.1 in /usr/local/lib/python3.12/dist-packages (from langchain-openai<2.0.0,>=1.0.0->langchain-deepseek) (1.109.1)\n",
            "Requirement already satisfied: tiktoken<1.0.0,>=0.7.0 in /usr/local/lib/python3.12/dist-packages (from langchain-openai<2.0.0,>=1.0.0->langchain-deepseek) (0.12.0)\n",
            "Requirement already satisfied: jsonpointer>=1.9 in /usr/local/lib/python3.12/dist-packages (from jsonpatch<2.0.0,>=1.33.0->langchain-core<2.0.0,>=1.0.0->langchain-deepseek) (3.0.0)\n",
            "Requirement already satisfied: httpx<1,>=0.23.0 in /usr/local/lib/python3.12/dist-packages (from langsmith<1.0.0,>=0.3.45->langchain-core<2.0.0,>=1.0.0->langchain-deepseek) (0.28.1)\n",
            "Requirement already satisfied: orjson>=3.9.14 in /usr/local/lib/python3.12/dist-packages (from langsmith<1.0.0,>=0.3.45->langchain-core<2.0.0,>=1.0.0->langchain-deepseek) (3.11.4)\n",
            "Requirement already satisfied: requests-toolbelt>=1.0.0 in /usr/local/lib/python3.12/dist-packages (from langsmith<1.0.0,>=0.3.45->langchain-core<2.0.0,>=1.0.0->langchain-deepseek) (1.0.0)\n",
            "Requirement already satisfied: requests>=2.0.0 in /usr/local/lib/python3.12/dist-packages (from langsmith<1.0.0,>=0.3.45->langchain-core<2.0.0,>=1.0.0->langchain-deepseek) (2.32.4)\n",
            "Requirement already satisfied: zstandard>=0.23.0 in /usr/local/lib/python3.12/dist-packages (from langsmith<1.0.0,>=0.3.45->langchain-core<2.0.0,>=1.0.0->langchain-deepseek) (0.25.0)\n",
            "Requirement already satisfied: anyio<5,>=3.5.0 in /usr/local/lib/python3.12/dist-packages (from openai<3.0.0,>=1.109.1->langchain-openai<2.0.0,>=1.0.0->langchain-deepseek) (4.11.0)\n",
            "Requirement already satisfied: distro<2,>=1.7.0 in /usr/local/lib/python3.12/dist-packages (from openai<3.0.0,>=1.109.1->langchain-openai<2.0.0,>=1.0.0->langchain-deepseek) (1.9.0)\n",
            "Requirement already satisfied: jiter<1,>=0.4.0 in /usr/local/lib/python3.12/dist-packages (from openai<3.0.0,>=1.109.1->langchain-openai<2.0.0,>=1.0.0->langchain-deepseek) (0.11.1)\n",
            "Requirement already satisfied: sniffio in /usr/local/lib/python3.12/dist-packages (from openai<3.0.0,>=1.109.1->langchain-openai<2.0.0,>=1.0.0->langchain-deepseek) (1.3.1)\n",
            "Requirement already satisfied: tqdm>4 in /usr/local/lib/python3.12/dist-packages (from openai<3.0.0,>=1.109.1->langchain-openai<2.0.0,>=1.0.0->langchain-deepseek) (4.67.1)\n",
            "Requirement already satisfied: annotated-types>=0.6.0 in /usr/local/lib/python3.12/dist-packages (from pydantic<3.0.0,>=2.7.4->langchain-core<2.0.0,>=1.0.0->langchain-deepseek) (0.7.0)\n",
            "Requirement already satisfied: pydantic-core==2.33.2 in /usr/local/lib/python3.12/dist-packages (from pydantic<3.0.0,>=2.7.4->langchain-core<2.0.0,>=1.0.0->langchain-deepseek) (2.33.2)\n",
            "Requirement already satisfied: typing-inspection>=0.4.0 in /usr/local/lib/python3.12/dist-packages (from pydantic<3.0.0,>=2.7.4->langchain-core<2.0.0,>=1.0.0->langchain-deepseek) (0.4.2)\n",
            "Requirement already satisfied: regex>=2022.1.18 in /usr/local/lib/python3.12/dist-packages (from tiktoken<1.0.0,>=0.7.0->langchain-openai<2.0.0,>=1.0.0->langchain-deepseek) (2024.11.6)\n",
            "Requirement already satisfied: idna>=2.8 in /usr/local/lib/python3.12/dist-packages (from anyio<5,>=3.5.0->openai<3.0.0,>=1.109.1->langchain-openai<2.0.0,>=1.0.0->langchain-deepseek) (3.11)\n",
            "Requirement already satisfied: certifi in /usr/local/lib/python3.12/dist-packages (from httpx<1,>=0.23.0->langsmith<1.0.0,>=0.3.45->langchain-core<2.0.0,>=1.0.0->langchain-deepseek) (2025.10.5)\n",
            "Requirement already satisfied: httpcore==1.* in /usr/local/lib/python3.12/dist-packages (from httpx<1,>=0.23.0->langsmith<1.0.0,>=0.3.45->langchain-core<2.0.0,>=1.0.0->langchain-deepseek) (1.0.9)\n",
            "Requirement already satisfied: h11>=0.16 in /usr/local/lib/python3.12/dist-packages (from httpcore==1.*->httpx<1,>=0.23.0->langsmith<1.0.0,>=0.3.45->langchain-core<2.0.0,>=1.0.0->langchain-deepseek) (0.16.0)\n",
            "Requirement already satisfied: charset_normalizer<4,>=2 in /usr/local/lib/python3.12/dist-packages (from requests>=2.0.0->langsmith<1.0.0,>=0.3.45->langchain-core<2.0.0,>=1.0.0->langchain-deepseek) (3.4.4)\n",
            "Requirement already satisfied: urllib3<3,>=1.21.1 in /usr/local/lib/python3.12/dist-packages (from requests>=2.0.0->langsmith<1.0.0,>=0.3.45->langchain-core<2.0.0,>=1.0.0->langchain-deepseek) (2.5.0)\n",
            "Requirement already satisfied: retrying in /usr/local/lib/python3.12/dist-packages (1.4.2)\n"
          ]
        }
      ],
      "source": [
        "!pip install langchain\n",
        "!pip install langchain-openai\n",
        "!pip install langchain-deepseek\n",
        "!pip install retrying"
      ]
    },
    {
      "cell_type": "code",
      "execution_count": 4,
      "metadata": {
        "collapsed": true,
        "id": "EXIC-LVvVXit"
      },
      "outputs": [],
      "source": [
        "import os\n",
        "import time\n",
        "from langchain_openai import ChatOpenAI\n",
        "from langchain_core.prompts import ChatPromptTemplate\n",
        "from langchain_core.output_parsers import StrOutputParser\n",
        "from langchain_deepseek import ChatDeepSeek\n",
        "from langchain_core.prompts import ChatPromptTemplate\n",
        "from langchain_core.output_parsers import StrOutputParser\n",
        "import random\n",
        "import json\n",
        "from retrying import retry\n",
        "import requests\n",
        "\n",
        "\n",
        "os.environ[\"DEEPSEEK_API_KEY\"] = \"sk-7568bd70a7024d219eb0cddd13c1f30b\"\n",
        "os.environ[\"DEEPSEEK_BASE_URL\"] = \"https://api.deepseek.com/v1\"\n",
        "deepseek_chat = ChatDeepSeek(model=\"deepseek-chat\", temperature=1)"
      ]
    },
    {
      "cell_type": "markdown",
      "metadata": {
        "id": "4ElnWZGKu9Vo"
      },
      "source": [
        "😊 You can now engage directly with DeepSeek-Chat using our `invoke` function."
      ]
    },
    {
      "cell_type": "code",
      "execution_count": 5,
      "metadata": {
        "colab": {
          "base_uri": "https://localhost:8080/"
        },
        "id": "mzUZFHrweW2D",
        "outputId": "e69d9514-fb09-4de2-b197-616963c810bc"
      },
      "outputs": [
        {
          "name": "stdout",
          "output_type": "stream",
          "text": [
            "content='Hello! How can I assist you today? 😊' additional_kwargs={'refusal': None} response_metadata={'token_usage': {'completion_tokens': 11, 'prompt_tokens': 17, 'total_tokens': 28, 'completion_tokens_details': None, 'prompt_tokens_details': {'audio_tokens': None, 'cached_tokens': 0}, 'prompt_cache_hit_tokens': 0, 'prompt_cache_miss_tokens': 17}, 'model_provider': 'deepseek', 'model_name': 'deepseek-chat', 'system_fingerprint': 'fp_ffc7281d48_prod0820_fp8_kvcache', 'id': '5829eb5a-8d7d-466d-b48d-a920d1d3fed6', 'finish_reason': 'stop', 'logprobs': None} id='lc_run--413aba30-38b9-415a-9961-d47ee5e4843f-0' usage_metadata={'input_tokens': 17, 'output_tokens': 11, 'total_tokens': 28, 'input_token_details': {'cache_read': 0}, 'output_token_details': {}}\n"
          ]
        }
      ],
      "source": [
        "prompt = ChatPromptTemplate.from_messages(\n",
        "    [\n",
        "        (\"system\", \"You are an AI assistant, please answer user's question.\"),\n",
        "        (\"user\", \"{input}\")\n",
        "    ]\n",
        ")\n",
        "\n",
        "model = ChatDeepSeek(model=\"deepseek-chat\")\n",
        "\n",
        "chain = prompt | model\n",
        "\n",
        "response = chain.invoke({\"input\": \"Hello\"})\n",
        "print(response)"
      ]
    },
    {
      "cell_type": "markdown",
      "metadata": {
        "id": "6Ly8ERAJgI8m"
      },
      "source": [
        "To make the output easy to use, we can apply a output parser to the original output!"
      ]
    },
    {
      "cell_type": "code",
      "execution_count": 6,
      "metadata": {
        "colab": {
          "base_uri": "https://localhost:8080/"
        },
        "id": "UPnmOckZgICw",
        "outputId": "fc2ca903-3be6-44c3-f022-f810718a83fa"
      },
      "outputs": [
        {
          "name": "stdout",
          "output_type": "stream",
          "text": [
            "Hello! How can I assist you today? 😊\n"
          ]
        }
      ],
      "source": [
        "chain = prompt | model | StrOutputParser()\n",
        "\n",
        "response = chain.invoke({\"input\": \"Hello\"})\n",
        "print(response)"
      ]
    },
    {
      "cell_type": "markdown",
      "metadata": {
        "id": "ADk-FqFZvaNn"
      },
      "source": [
        "### **LLM Setting**\n",
        "\n",
        "**1. Model Selection**\n",
        "\n",
        "You are free to choose from several models. Below are the models DeepSeek offers:\n",
        "- deepseek-chat (currently pointing to deepseek-v3, offering a balance of capability and cost, highly recommended!)\n",
        "- deepseek-reasoner (currently pointing to deepseek-r1, extremely sophisticated and intelligent)\n",
        "For detailed information, please visit [DeepSeek's Website](https://api-docs.deepseek.com/zh-cn/news/news250120).\n",
        "\n",
        "Note that DeepSeek offers a discount when using API in the midnight, details showing [here](https://api-docs.deepseek.com/zh-cn/quick_start/pricing)\n",
        "\n",
        "Below are the models OpenAI offers:\n",
        "\n",
        "- gpt-4o-mini (the most cost-effective model, highly recommended!)\n",
        "- gpt-4o (offers a balance of capability and cost)\n",
        "- gpt-4-turbo (extremely sophisticated and intelligent)\n",
        "\n",
        "For detailed information, please visit [OpenAI's Website](https://platform.openai.com/docs/models/gpt-4-turbo-and-gpt-4)."
      ]
    },
    {
      "cell_type": "code",
      "execution_count": null,
      "metadata": {
        "colab": {
          "base_uri": "https://localhost:8080/",
          "height": 53
        },
        "id": "tNyoi8HSvZop",
        "outputId": "ca654479-2c83-44da-9c3c-60132d071817"
      },
      "outputs": [
        {
          "data": {
            "application/vnd.google.colaboratory.intrinsic+json": {
              "type": "string"
            },
            "text/plain": [
              "\"Hello! I'm an AI assistant here to help you. You can call me whatever you like—I don't have a personal name, but feel free to give me one if you'd like! How can I assist you today? 😊\""
            ]
          },
          "execution_count": 8,
          "metadata": {},
          "output_type": "execute_result"
        }
      ],
      "source": [
        "deepseek_reasoner = ChatDeepSeek(model=\"deepseek-reasoner\", temperature=1)\n",
        "chain = prompt | deepseek_reasoner | StrOutputParser()\n",
        "chain.invoke({'input': \"hello! what\\' your name?\"}) # 注意reasoner很贵哦"
      ]
    },
    {
      "cell_type": "markdown",
      "metadata": {
        "id": "x-Glb5kzzu1e"
      },
      "source": [
        "**2. Temperature**\n",
        "Controls the randomness of the model's output. Lower values make responses more deterministic and focused, while higher values allow for more creative and diverse outputs. Use low values for factual tasks and high values for creative tasks."
      ]
    },
    {
      "cell_type": "code",
      "execution_count": 11,
      "metadata": {
        "colab": {
          "base_uri": "https://localhost:8080/",
          "height": 54
        },
        "id": "VmnzLvyiw-aJ",
        "outputId": "494e4636-3f49-4edf-8ef9-20c3539b89f4"
      },
      "outputs": [
        {
          "data": {
            "application/vnd.google.colaboratory.intrinsic+json": {
              "type": "string"
            },
            "text/plain": [
              "\"Hello! I'm an AI assistant created by DeepSeek. I don't have a personal name, but you can think of me as a helpful companion here to answer your questions and assist with whatever you need! 😊 \\n\\nIs there something specific I can help you with today?\""
            ]
          },
          "execution_count": 11,
          "metadata": {},
          "output_type": "execute_result"
        }
      ],
      "source": [
        "model = ChatDeepSeek(model=\"deepseek-chat\", temperature=2)\n",
        "chain = prompt | model | StrOutputParser()\n",
        "\n",
        "chain.invoke( {\"input\": 'hello! what\\' your name?'})"
      ]
    },
    {
      "cell_type": "markdown",
      "metadata": {
        "id": "Cp7Tlio5w_DB"
      },
      "source": [
        "**3. Top P**\n",
        "This is nucleus sampling, where only tokens from the top probability mass (up to `top_p`) are considered. Lower values encourage more focused responses, while higher values increase the diversity of possible outputs."
      ]
    },
    {
      "cell_type": "code",
      "execution_count": null,
      "metadata": {
        "colab": {
          "base_uri": "https://localhost:8080/",
          "height": 53
        },
        "id": "HShZxbyOu7b9",
        "outputId": "e4307ea2-bb22-4dac-ba58-00b408731898"
      },
      "outputs": [
        {
          "data": {
            "application/vnd.google.colaboratory.intrinsic+json": {
              "type": "string"
            },
            "text/plain": [
              "'Hello! I’m an AI assistant created to help with your questions and tasks. You can call me whatever you like—I don’t have a specific name. How can I assist you today? 😊'"
            ]
          },
          "execution_count": 23,
          "metadata": {},
          "output_type": "execute_result"
        }
      ],
      "source": [
        "model = ChatDeepSeek(model=\"deepseek-chat\", top_p=0.9)\n",
        "chain = prompt | model | StrOutputParser()\n",
        "\n",
        "chain.invoke( {\"input\": 'hello! what\\' your name?'})"
      ]
    },
    {
      "cell_type": "markdown",
      "metadata": {
        "id": "RW6oF6wK0L5B"
      },
      "source": [
        "**4. Max Length** This limits the total number of tokens the model can generate, helping control response length and prevent irrelevant output."
      ]
    },
    {
      "cell_type": "code",
      "execution_count": 12,
      "metadata": {
        "colab": {
          "base_uri": "https://localhost:8080/",
          "height": 36
        },
        "id": "o_cbFy0V0XmF",
        "outputId": "a3d1e165-a5fa-41cd-9d1d-9a68783e42fa"
      },
      "outputs": [
        {
          "data": {
            "application/vnd.google.colaboratory.intrinsic+json": {
              "type": "string"
            },
            "text/plain": [
              "\"Hello! I'm an AI assistant created by Deep\""
            ]
          },
          "execution_count": 12,
          "metadata": {},
          "output_type": "execute_result"
        }
      ],
      "source": [
        "model = ChatDeepSeek(model=\"deepseek-chat\", max_tokens=10)\n",
        "chain = prompt | model | StrOutputParser()\n",
        "\n",
        "chain.invoke( {\"input\": 'hello! what\\' your name?'})"
      ]
    },
    {
      "cell_type": "markdown",
      "metadata": {
        "id": "bPOyoMZZKn9E"
      },
      "source": [
        "### **Prompting Techniques**"
      ]
    },
    {
      "cell_type": "markdown",
      "metadata": {
        "id": "rW7OjIeqMzC3"
      },
      "source": [
        "**1. Zero-Shot Prompting** Large language models (LLMs) today, such as GPT-3.5 Turbo, GPT-4, and Claude 3, are tuned to follow instructions and are trained on large amounts of data. Large-scale training makes these models capable of performing some tasks in a \"zero-shot\" manner. Zero-shot prompting means that the prompt used to interact with the model won't contain examples or demonstrations. The zero-shot prompt directly instructs the model to perform a task without any additional examples to steer it."
      ]
    },
    {
      "cell_type": "code",
      "execution_count": 13,
      "metadata": {
        "colab": {
          "base_uri": "https://localhost:8080/",
          "height": 36
        },
        "id": "h77_UeVAKnOy",
        "outputId": "ced8560f-4fe1-4447-88c8-9722903bd818"
      },
      "outputs": [
        {
          "data": {
            "application/vnd.google.colaboratory.intrinsic+json": {
              "type": "string"
            },
            "text/plain": [
              "'neutral'"
            ]
          },
          "execution_count": 13,
          "metadata": {},
          "output_type": "execute_result"
        }
      ],
      "source": [
        "model = ChatDeepSeek(model=\"deepseek-chat\")\n",
        "\n",
        "chain = prompt | model | StrOutputParser()\n",
        "\n",
        "your_prompt = \"\"\"Classify the text into neutral, negative or positive.\n",
        "Text: I think the vacation is okay.\n",
        "Sentiment:\"\"\"\n",
        "\n",
        "chain.invoke({\"input\": your_prompt})"
      ]
    },
    {
      "cell_type": "markdown",
      "metadata": {
        "id": "wLUojJlxNHsn"
      },
      "source": [
        "**2. Few-Shot Prompting** While large-language models demonstrate remarkable zero-shot capabilities, they still fall short on more complex tasks when using the zero-shot setting. Few-shot prompting can be used as a technique to enable in-context learning where we provide demonstrations in the prompt to steer the model to better performance. The demonstrations serve as conditioning for subsequent examples where we would like the model to generate a response.\n",
        "\n",
        "According to [Touvron et al. 2023](https://arxiv.org/pdf/2302.13971.pdf) few shot properties first appeared when models were scaled to a sufficient size ([Kaplan et al., 2020](https://arxiv.org/abs/2001.08361))."
      ]
    },
    {
      "cell_type": "code",
      "execution_count": 14,
      "metadata": {
        "colab": {
          "base_uri": "https://localhost:8080/",
          "height": 36
        },
        "id": "aiMceIYUNISX",
        "outputId": "bf99d1fc-05cd-4adf-c91e-ce66ae00f5d0"
      },
      "outputs": [
        {
          "data": {
            "application/vnd.google.colaboratory.intrinsic+json": {
              "type": "string"
            },
            "text/plain": [
              "'Negative'"
            ]
          },
          "execution_count": 14,
          "metadata": {},
          "output_type": "execute_result"
        }
      ],
      "source": [
        "your_prompt = \"\"\"This is bad! // Negative\n",
        "This is awesome! // Positive\n",
        "Wow that movie was rad! // Positive\n",
        "What a horrible show! //\"\"\"\n",
        "chain.invoke({\"input\": your_prompt})"
      ]
    },
    {
      "cell_type": "markdown",
      "metadata": {
        "id": "vah7gl7qNIlx"
      },
      "source": [
        "\n",
        "\n",
        "**3. Chain-of-Thought Prompting** Introduced in [Wei et al. (2022)](https://arxiv.org/abs/2201.11903), chain-of-thought (CoT) prompting enables complex reasoning capabilities through intermediate reasoning steps. You can combine it with few-shot prompting to get better results on more complex tasks that require reasoning before responding.\n",
        "\n",
        "![](https://www.promptingguide.ai/_next/image?url=%2F_next%2Fstatic%2Fmedia%2Fcot.1933d9fe.png&w=1920&q=75)  "
      ]
    },
    {
      "cell_type": "code",
      "execution_count": 15,
      "metadata": {
        "colab": {
          "base_uri": "https://localhost:8080/",
          "height": 73
        },
        "id": "cd0llsdSNJDC",
        "outputId": "48ed664c-53f1-410f-dfe2-0f32c434aac2"
      },
      "outputs": [
        {
          "data": {
            "application/vnd.google.colaboratory.intrinsic+json": {
              "type": "string"
            },
            "text/plain": [
              "'Let’s break it down:  \\n\\n1. **Start**: You bought 10 apples.  \\n   → Apples = 10  \\n\\n2. **Gave 2 to the neighbor**:  \\n   → Apples = 10 − 2 = 8  \\n\\n3. **Gave 2 to the repairman**:  \\n   → Apples = 8 − 2 = 6  \\n\\n4. **Bought 5 more apples**:  \\n   → Apples = 6 + 5 = 11  \\n\\n5. **Ate 1 apple**:  \\n   → Apples = 11 − 1 = 10  \\n\\n**Final answer**: **10 apples**'"
            ]
          },
          "execution_count": 15,
          "metadata": {},
          "output_type": "execute_result"
        }
      ],
      "source": [
        "your_prompt = \"\"\"I went to the market and bought 10 apples. I gave 2 apples to the neighbor and 2 to the repairman. I then went and bought 5 more apples and ate 1. How many apples did I remain with?\n",
        "Let's think step by step.\"\"\"\n",
        "chain.invoke({\"input\": your_prompt})"
      ]
    },
    {
      "cell_type": "markdown",
      "metadata": {
        "id": "KGKBvMJPOIoe"
      },
      "source": [
        "**4. Self-Consistency** Perhaps one of the more advanced techniques out there for prompt engineering is self-consistency. Proposed by [Wang et al. (2022)](https://arxiv.org/abs/2203.11171), self-consistency aims \"to replace the naive greedy decoding used in chain-of-thought prompting\". The idea is to sample multiple, diverse reasoning paths through few-shot CoT, and use the generations to select the most consistent answer. This helps to boost the performance of CoT prompting on tasks involving arithmetic and commonsense reasoning."
      ]
    },
    {
      "cell_type": "code",
      "execution_count": 16,
      "metadata": {
        "colab": {
          "base_uri": "https://localhost:8080/",
          "height": 91
        },
        "id": "dz3RT22jOOzC",
        "outputId": "cf3a44ad-2253-4b0f-bac3-db69fa74163a"
      },
      "outputs": [
        {
          "data": {
            "application/vnd.google.colaboratory.intrinsic+json": {
              "type": "string"
            },
            "text/plain": [
              "'**Step-by-step reasoning:**\\n\\n1. **Cost of notebooks:**  \\n   3 notebooks × $2 each = $6  \\n\\n2. **Cost of pens:**  \\n   2 pens × $1.50 each = $3  \\n\\n3. **Total cost:**  \\n   $6 + $3 = $9  \\n\\n**Consistency check with alternative reasoning paths:**\\n\\n- **Path 1:**  \\n  Total = (3 × 2) + (2 × 1.50) = 6 + 3 = 9  \\n\\n- **Path 2:**  \\n  Total = (2 × 1.50) + (3 × 2) = 3 + 6 = 9  \\n\\n- **Path 3:**  \\n  Total = 3 × 2 + 2 × 1.50 = 6 + 3 = 9  \\n\\nAll paths give the same result: **$9**.\\n\\n**Final Answer:** The total cost is **$9**.'"
            ]
          },
          "execution_count": 16,
          "metadata": {},
          "output_type": "execute_result"
        }
      ],
      "source": [
        "your_prompt = \"\"\"**Problem: Calculate the total cost if you buy 3 notebooks at $2 each and 2 pens at $1.50 each.**\n",
        "\n",
        "**Examples:**\n",
        "\n",
        "1. **Example Problem:** How many apples can you buy with $10 if each costs $2?\n",
        "   **Solution:**\n",
        "   - I have $10.\n",
        "   - Each apple costs $2.\n",
        "   - $10 / $2 = 5 apples.\n",
        "   **Answer: You can buy 5 apples.**\n",
        "\n",
        "2. **Example Problem:** If a train travels 50 miles in an hour, how far will it travel in 4 hours?\n",
        "   **Solution:**\n",
        "   - The train travels 50 miles in one hour.\n",
        "   - In 4 hours, it will travel 50 miles/hour * 4 hours = 200 miles.\n",
        "   **Answer: The train will travel 200 miles.**\n",
        "\n",
        "**Your Task:**\n",
        "\n",
        "- Use the chain of thought to break down the cost calculation.\n",
        "- Sample multiple reasoning paths.\n",
        "- Determine the most consistent calculation across different samples.\n",
        "\n",
        "**Reasoning:**\n",
        "- Start by identifying the cost of one category of items:\n",
        "  - 3 notebooks at $2 each = $6.\n",
        "- Then, calculate the cost for the other category:\n",
        "  - 2 pens at $1.50 each = $3.\n",
        "- Add both amounts to find the total cost:\n",
        "  - $6 (notebooks) + $3 (pens) = $9.\n",
        "\n",
        "**Consistency Check:**\n",
        "- Sample several reasoning paths. For example:\n",
        "  1. Calculate total cost for notebooks first, then pens, and sum.\n",
        "  2. Calculate total cost for pens first, then notebooks, and sum.\n",
        "  3. Directly multiply and add the costs of notebooks and pens.\n",
        "- Compare the answers and select the most frequently occurring result.\n",
        "\n",
        "**Final Answer:**\n",
        "- After verifying consistency across samples, conclude with the most consistent answer.\n",
        "\"\"\"\n",
        "chain.invoke({\"input\": your_prompt})\n"
      ]
    },
    {
      "cell_type": "markdown",
      "metadata": {
        "id": "fdwRvqrGOYJZ"
      },
      "source": [
        "\n",
        "\n",
        "**5. Tree of Thoughts (ToT)** For complex tasks that require exploration or strategic lookahead, traditional or simple prompting techniques fall short. [Yao et el. (2023)](https://arxiv.org/abs/2305.10601) and [Long (2023)](https://arxiv.org/abs/2305.08291) recently proposed Tree of Thoughts (ToT), a framework that generalizes over chain-of-thought prompting and encourages exploration over thoughts that serve as intermediate steps for general problem solving with language models.\n",
        "\n",
        "ToT maintains a tree of thoughts, where thoughts represent coherent language sequences that serve as intermediate steps toward solving a problem. This approach enables an LM to self-evaluate the progress through intermediate thoughts made towards solving a problem through a deliberate reasoning process. The LM's ability to generate and evaluate thoughts is then combined with search algorithms (e.g., breadth-first search and depth-first search) to enable systematic exploration of thoughts with lookahead and backtracking.\n",
        "\n",
        "\n",
        "\n",
        "![](https://www.promptingguide.ai/_next/image?url=%2F_next%2Fstatic%2Fmedia%2FTOT.3b13bc5e.png&w=3840&q=75)  "
      ]
    },
    {
      "cell_type": "code",
      "execution_count": null,
      "metadata": {
        "colab": {
          "base_uri": "https://localhost:8080/",
          "height": 90
        },
        "id": "w32M94fOOYqE",
        "outputId": "943421a6-a4c9-42dd-dc97-4f3c8bbe85b5"
      },
      "outputs": [
        {
          "data": {
            "application/vnd.google.colaboratory.intrinsic+json": {
              "type": "string"
            },
            "text/plain": [
              "\"### **Understanding the Problem**\\n\\nBefore diving into solving the puzzle, it's crucial to fully grasp the problem statement. We have six distinct objects that need to be arranged in a specific order. Each object can only occupy one position in the sequence, and there are certain rules dictating which objects must come before others. Our goal is to determine the correct sequence that adheres to all these rules.\\n\\n### **Step 1: Listing Possible First Moves**\\n\\nThe first step is to identify which objects can logically be placed first in the sequence. To do this, we need to consider the rules that specify which objects must come before others. If an object has no prerequisites (i.e., no rules stating that it must come after another object), it's a candidate for the first position.\\n\\n**Assumption:** Since the specific objects and rules aren't provided, I'll assume a hypothetical set of objects and rules to illustrate the process.\\n\\nLet's define our six objects as: **A, B, C, D, E, F**.\\n\\nAnd the rules are:\\n1. **A** must come before **B**.\\n2. **C** must come before **D**.\\n3. **E** must come before **F**.\\n4. **B** must come before **D**.\\n5. **D** must come before **E**.\\n\\n**Analyzing the Rules:**\\n\\n- **A** must come before **B**.\\n- **C** must come before **D**.\\n- **E** must come before **F**.\\n- **B** must come before **D**.\\n- **D** must come before **E**.\\n\\nFrom these rules, we can infer dependencies:\\n- **A** → **B** → **D** → **E** → **F**\\n- **C** → **D**\\n\\nThis means:\\n- **A** must come before **B**, which must come before **D**, which must come before **E**, which must come before **F**.\\n- **C** must come before **D**.\\n\\n**Identifying Potential First Objects:**\\n\\nLooking at the dependencies:\\n- **A** has no prerequisites; it can be first.\\n- **C** has no prerequisites; it can be first.\\n- **B**, **D**, **E**, and **F** all have prerequisites and cannot be first.\\n\\nTherefore, the possible first objects are **A** and **C**.\\n\\n### **Step 2: Generating Intermediate Thoughts for the Second Position**\\n\\nNow, let's explore the second position after selecting a first object. We'll consider both **A** and **C** as starting points.\\n\\n#### **Case 1: Starting with A**\\n\\nIf **A** is first, the sequence so far is: **A**, ?\\n\\n**Possible Second Objects:**\\n\\nFrom the rules:\\n- **A** must come before **B**, so **B** is a candidate.\\n- **C** has no prerequisites and hasn't been placed yet, so **C** is also a candidate.\\n- **D**, **E**, and **F** have prerequisites and cannot be placed yet.\\n\\nThus, the possible second objects after **A** are **B** and **C**.\\n\\n**Exploring Three Possibilities:**\\n\\n1. **A**, **B**, ?\\n2. **A**, **C**, ?\\n3. **A**, **B**, **C**, ?\\n\\nWait, the third option seems to be extending beyond the second position. Let's focus on the second position first.\\n\\nSo, the two possibilities for the second position after **A** are:\\n1. **A**, **B**, ?\\n2. **A**, **C**, ?\\n\\n#### **Case 2: Starting with C**\\n\\nIf **C** is first, the sequence so far is: **C**, ?\\n\\n**Possible Second Objects:**\\n\\nFrom the rules:\\n- **C** must come before **D**, so **D** is a candidate.\\n- **A** has no prerequisites and hasn't been placed yet, so **A** is also a candidate.\\n- **B**, **E**, and **F** have prerequisites and cannot be placed yet.\\n\\nThus, the possible second objects after **C** are **A** and **D**.\\n\\n**Exploring Three Possibilities:**\\n\\n1. **C**, **A**, ?\\n2. **C**, **D**, ?\\n3. **C**, **A**, **D**, ?\\n\\nAgain, the third option extends beyond the second position. So, the two possibilities for the second position after **C** are:\\n1. **C**, **A**, ?\\n2. **C**, **D**, ?\\n\\n### **Step 3: Evaluating Each Option**\\n\\nNow, let's evaluate each of these options to see if they align with the rules.\\n\\n#### **Case 1: Starting with A**\\n\\n**Option 1: A, B, ?**\\n\\n- **A** is before **B**: Valid.\\n- Next, we need to place **C**, **D**, **E**, **F**.\\n- **C** must come before **D**.\\n- **B** must come before **D**.\\n- **D** must come before **E**.\\n- **E** must come before **F**.\\n\\nPossible next steps:\\n- **C** can be placed next since it has no prerequisites beyond being before **D**.\\n- After **C**, **D** must come before **E** and **F**.\\n- Then **E** before **F**.\\n\\nSo, one possible sequence: **A**, **B**, **C**, **D**, **E**, **F**.\\n\\n**Option 2: A, C, ?**\\n\\n- **A** is before **B**: Valid.\\n- **C** is before **D**: Valid.\\n- Next, we need to place **B**, **D**, **E**, **F**.\\n- **B** must come before **D**.\\n- **D** must come before **E**.\\n- **E** must come before **F**.\\n\\nPossible next steps:\\n- **B** can be placed next since it must come before **D**.\\n- After **B**, **D** must come before **E** and **F**.\\n- Then **E** before **F**.\\n\\nSo, one possible sequence: **A**, **C**, **B**, **D**, **E**, **F**.\\n\\n**Evaluation:**\\n\\nBoth sequences **A, B, C, D, E, F** and **A, C, B, D, E, F** seem to satisfy all the rules.\\n\\n#### **Case 2: Starting with C**\\n\\n**Option 1: C, A, ?**\\n\\n- **C** is before **D**: Valid.\\n- **A** is before **B**: Valid.\\n- Next, we need to place **B**, **D**, **E**, **F**.\\n- **B** must come before **D**.\\n- **D** must come before **E**.\\n- **E** must come before **F**.\\n\\nPossible next steps:\\n- **B** can be placed next since it must come before **D**.\\n- After **B**, **D** must come before **E** and **F**.\\n- Then **E** before **F**.\\n\\nSo, one possible sequence: **C**, **A**, **B**, **D**, **E**, **F**.\\n\\n**Option 2: C, D, ?**\\n\\n- **C** is before **D**: Valid.\\n- Next, we need to place **A**, **B**, **E**, **F**.\\n- **A** must come before **B**.\\n- **B** must come before **D** (but **D** is already placed after **C**).\\n- **D** must come before **E**.\\n- **E** must come before **F**.\\n\\nPossible next steps:\\n- **A** can be placed next since it has no prerequisites beyond being before **B**.\\n- After **A**, **B** must come before **D** (but **D** is already placed).\\n- Wait, **B** must come before **D**, but **D** is already placed after **C**. This creates a conflict because **B** must come before **D**, but **D** is already in position 2.\\n\\nThis means that placing **D** immediately after **C** violates the rule that **B** must come before **D**. Therefore, **C, D, ?** is not a valid sequence.\\n\\n**Evaluation:**\\n\\nOnly the sequence **C, A, B, D, E, F** is valid when starting with **C**.\\n\\n### **Step 4: Searching Using Breadth-First Search (BFS)**\\n\\nTo ensure we explore all possible valid sequences, we'll use the Breadth-First Search (BFS) approach. This means we'll explore all possible sequences level by level, ensuring that at each step, we adhere to the rules.\\n\\n**Starting Point:**\\n\\n- **A** or **C** as the first object.\\n\\n**Level 1: First Object**\\n\\n1. **A**\\n2. **C**\\n\\n**Level 2: Second Object**\\n\\nFor **A**:\\n1. **A**, **B**\\n2. **A**, **C**\\n\\nFor **C**:\\n1. **C**, **A**\\n2. **C**, **D** (invalid as discussed)\\n\\n**Level 3: Third Object**\\n\\nFor **A, B**:\\n1. **A, B, C**\\n2. **A, B, D** (invalid, since **C** must come before **D**)\\n\\nFor **A, C**:\\n1. **A, C, B**\\n2. **A, C, D** (invalid, since **B** must come before **D**)\\n\\nFor **C, A**:\\n1. **C, A, B**\\n2. **C, A, D** (invalid, since **B** must come before **D**)\\n\\n**Level 4: Fourth Object**\\n\\nFor **A, B, C**:\\n1. **A, B, C, D**\\n2. **A, B, C, E** (invalid, since **D** must come before **E**)\\n\\nFor **A, C, B**:\\n1. **A, C, B, D**\\n2. **A, C, B, E** (invalid, since **D** must come before **E**)\\n\\nFor **C, A, B**:\\n1. **C, A, B, D**\\n2. **C, A, B, E** (invalid, since **D** must come before **E**)\\n\\n**Level 5: Fifth Object**\\n\\nFor **A, B, C, D**:\\n1. **A, B, C, D, E**\\n2. **A, B, C, D, F** (invalid, since **E** must come before **F**)\\n\\nFor **A, C, B, D**:\\n1. **A, C, B, D, E**\\n2. **A, C, B, D, F** (invalid, since **E** must come before **F**)\\n\\nFor **C, A, B, D**:\\n1. **C, A, B, D, E**\\n2. **C, A, B, D, F** (invalid, since **E** must come before **F**)\\n\\n**Level 6: Sixth Object**\\n\\nFor **A, B, C, D, E**:\\n1. **A, B, C, D, E, F**\\n\\nFor **A, C, B, D, E**:\\n1. **A, C, B, D, E, F**\\n\\nFor **C, A, B, D, E**:\\n1. **C, A, B, D, E, F**\\n\\n**Valid Sequences Found:**\\n\\n1. **A, B, C, D, E, F**\\n2. **A, C, B, D, E, F**\\n3. **C, A, B, D, E, F**\\n\\n### **Step 5: Looking Ahead and Refining**\\n\\nNow, let's verify if all these sequences adhere to all the rules.\\n\\n**Sequence 1: A, B, C, D, E, F**\\n\\n- **A** before **B**: Yes.\\n- **C** before **D**: Yes.\\n- **E** before **F**: Yes.\\n- **B** before **D**: Yes.\\n- **D** before **E**: Yes.\\n\\nAll rules are satisfied.\\n\\n**Sequence 2: A, C, B, D, E, F**\\n\\n- **A** before **B**: Yes.\\n- **C** before **D**: Yes.\\n- **E** before **F**: Yes.\\n- **B** before **D**: Yes.\\n- **D** before **E**: Yes.\\n\\nAll rules are satisfied.\\n\\n**Sequence 3: C, A, B, D, E, F**\\n\\n- **A** before **B**: Yes.\\n- **C** before **D**: Yes.\\n- **E** before **F**: Yes.\\n- **B** before **D**: Yes.\\n- **D** before **E**: Yes.\\n\\nAll rules are satisfied.\\n\\n### **Step 6: Completing the Arrangement and Finding the Correct Solution**\\n\\nAfter systematically exploring all possible sequences using BFS and evaluating each against the rules, we've identified three valid sequences:\\n\\n1. **A, B, C, D, E, F**\\n2. **A, C, B, D, E, F**\\n3. **C, A, B, D, E, F**\\n\\nAll these sequences satisfy all the given rules. Therefore, any of these could be the correct arrangement depending on whether there are additional constraints or preferences not specified in the problem.\\n\\n### **Final Answer**\\n\\nBased on the provided rules and the systematic exploration of possible sequences, the valid arrangements of the six objects are:\\n\\n1. **A, B, C, D, E, F**\\n2. **A, C, B, D, E, F**\\n3. **C, A, B, D, E, F**\\n\\nEach of these sequences adheres to all the specified rules, ensuring that each object is placed in the correct order relative to the others.\""
            ]
          },
          "execution_count": 16,
          "metadata": {},
          "output_type": "execute_result"
        }
      ],
      "source": [
        "your_prompt = \"\"\"Imagine you are solving a complex logic puzzle where you need to arrange six objects in a specific order based on a set of rules. Each object can only be placed once, and certain objects must be placed before others according to the rules provided below. You need to explore different arrangements systematically to find the correct solution. Follow these steps:_\n",
        "\n",
        "1. **Step 1: Start by listing possible first moves**: Consider each of the six objects and think through which ones could logically come first based on the rules.\n",
        "2. **Step 2: Generate multiple intermediate thoughts for the second position**: After selecting a first object, think about which objects can go next while considering the constraints. Explore at least three different possibilities.\n",
        "3. **Step 3: Evaluate each option**: After placing the first two objects, evaluate whether the current arrangement aligns with the rules. If it does, proceed to explore the third position. If not, backtrack and try another path.\n",
        "4. **Step 4: Search using Breadth-First Search (BFS)**: Expand on each potential arrangement one step at a time. Use BFS to keep track of multiple arrangements at once, evaluating their adherence to the rules as you go.\n",
        "5. **Step 5: Look ahead and refine**: After placing three objects, look ahead to the remaining positions and evaluate potential placements. If a placement leads to a conflict, backtrack and explore a different arrangement. Use depth-first search (DFS) if necessary to explore more deeply.\n",
        "6. **Step 6: Complete the arrangement and find the correct solution**: Continue exploring arrangements, self-evaluating each step, until the correct order is found. Summarize your reasoning process after completing the task.\"\"\"\n",
        "chain.invoke({\"input\": your_prompt})"
      ]
    },
    {
      "cell_type": "markdown",
      "metadata": {
        "id": "wpmoWsqnP_Eo"
      },
      "source": [
        "**6. Retrieval Augmented Generation (RAG)** General-purpose language models can be fine-tuned to achieve several common tasks such as sentiment analysis and named entity recognition. These tasks generally don't require additional background knowledge.\n",
        "\n",
        "For more complex and knowledge-intensive tasks, it's possible to build a language model-based system that accesses external knowledge sources to complete tasks. This enables more factual consistency, improves reliability of the generated responses, and helps to mitigate the problem of \"hallucination\".\n",
        "\n",
        "Meta AI researchers introduced a method called [Retrieval Augmented Generation (RAG)](https://ai.facebook.com/blog/retrieval-augmented-generation-streamlining-the-creation-of-intelligent-natural-language-processing-models/) to address such knowledge-intensive tasks. RAG combines an information retrieval component with a text generator model. RAG can be fine-tuned and its internal knowledge can be modified in an efficient manner and without needing retraining of the entire model.\n",
        "\n",
        "\n",
        "![](https://www.promptingguide.ai/_next/image?url=%2F_next%2Fstatic%2Fmedia%2Frag.c6528d99.png&w=1920&q=75)  \n",
        "\n",
        "A recommended repository of implementations: (langchain) [https://github.com/langchain-ai/langchain]."
      ]
    },
    {
      "cell_type": "code",
      "execution_count": null,
      "metadata": {
        "colab": {
          "base_uri": "https://localhost:8080/",
          "height": 143
        },
        "id": "qEGZnErERUKd",
        "outputId": "a363f015-74cd-41f8-a8a1-ec5ce0de7d31"
      },
      "outputs": [
        {
          "data": {
            "application/vnd.google.colaboratory.intrinsic+json": {
              "type": "string"
            },
            "text/plain": [
              "\"The primary reasons for the decline in polar bear populations, as discussed in the retrieval content, include:\\n\\n1. **Ice Melting**: Climate change is causing the Arctic ice to melt at an accelerated rate, which reduces the polar bears' habitat. Polar bears rely on sea ice for hunting seals, their primary prey, and for traveling across their range.\\n\\n2. **Loss of Habitat**: As the ice melts, polar bears are losing their natural habitat, forcing them to spend more time on land where food sources are scarce. This leads to increased starvation and reduced reproductive success.\\n\\n3. **Changes in Prey Availability**: The melting ice and changing ecosystems are affecting the availability of seals, the main food source for polar bears. This makes it harder for polar bears to find sufficient food to survive and reproduce.\\n\\n### Measures to Mitigate the Issue:\\n\\n1. **Reducing Greenhouse Gas Emissions**: Implementing global policies to reduce carbon emissions and combat climate change is crucial. This can help slow down the rate of ice melting and stabilize polar bear habitats.\\n\\n2. **Protecting Critical Habitats**: Establishing and enforcing protected areas in the Arctic where human activities are limited can help preserve the remaining ice and the ecosystems polar bears depend on.\\n\\n3. **Research and Monitoring**: Increasing funding for research to monitor polar bear populations and their habitats can provide valuable data to inform conservation strategies.\\n\\n4. **Community Engagement**: Working with local communities to promote sustainable practices and reduce human-wildlife conflicts can help protect polar bears while supporting the livelihoods of Arctic residents.\\n\\n5. **International Cooperation**: Collaborating with international organizations and governments to create and enforce policies that protect polar bears and their habitats on a global scale.\\n\\nBy addressing these factors and implementing these measures, it may be possible to mitigate the decline in polar bear populations and ensure their survival in the face of climate change.\""
            ]
          },
          "execution_count": 29,
          "metadata": {},
          "output_type": "execute_result"
        }
      ],
      "source": [
        "your_prompt = \"\"\"## Instruction: Use the provided retrieval content to answer the question.\n",
        "### Retrieval Content:\n",
        "1. The retrieved document discusses the impact of climate change on polar bear populations in the Arctic, detailing factors like ice melting, loss of habitat, and changes in prey availability.\n",
        "\n",
        "### Question:\n",
        "What are the primary reasons for the decline in polar bear populations as discussed in the retrieval content, and what measures can be implemented to mitigate this issue?\n",
        "\"\"\"\n",
        "chain.invoke({\"input\": your_prompt})"
      ]
    },
    {
      "cell_type": "markdown",
      "metadata": {
        "id": "USvPTrsGST8S"
      },
      "source": [
        "**7. Automatic Reasoning and Tool-use (ART)** Combining CoT prompting and tools in an interleaved manner has shown to be a strong and robust approach to address many tasks with LLMs. These approaches typically require hand-crafting task-specific demonstrations and carefully scripted interleaving of model generations with tool use. Paranjape et al., (2023) propose a new framework that uses a frozen LLM to automatically generate intermediate reasoning steps as a program.\n",
        "\n",
        "ART works as follows:\n",
        "\n",
        "- given a new task, it select demonstrations of multi-step reasoning and tool use from a task library\n",
        "- at test time, it pauses generation whenever external tools are called, and integrate their output before resuming generation\n",
        "\n",
        "ART encourages the model to generalize from demonstrations to decompose a new task and use tools in appropriate places, in a zero-shot fashion. In addition, ART is extensible as it also enables humans to fix mistakes in the reasoning steps or add new tools by simply updating the task and tool libraries. The process is demonstrated below:\n",
        "\n",
        "![](https://www.promptingguide.ai/_next/image?url=%2F_next%2Fstatic%2Fmedia%2FART.3b30f615.png&w=1200&q=75)  "
      ]
    },
    {
      "cell_type": "markdown",
      "metadata": {
        "id": "fCGdiS8SqtJ-"
      },
      "source": [
        "## **Task 2: LLMS for AI Feedback**"
      ]
    },
    {
      "cell_type": "markdown",
      "metadata": {
        "id": "GTLaP9TULpNS"
      },
      "source": [
        "The final stage of large language model training involves reinforcement learning through feedback. Such feedback can come from either  human experts or   AI. This feedback is used to learn a reward model, with data defined in a triplet form. This triplet comes from a question, two answers, and a choice by a human or AI on which answer is better.\n",
        "\n",
        "The triplet consists of three elements: a  *question*, the  *chosen* answer, and the *rejected* answer. You are asked to use ChatGPT to provide the feedback, namely, choose the preferred one. Note that the feedback is highly biased by the order of placed answers, please shuffle the order of answers when using chatGPT for preference feedback."
      ]
    },
    {
      "cell_type": "code",
      "execution_count": 33,
      "metadata": {
        "colab": {
          "base_uri": "https://localhost:8080/"
        },
        "id": "chUVTLQLrFcF",
        "outputId": "7ef0cfd5-bcf3-46d8-917d-bb63b9d8510f"
      },
      "outputs": [
        {
          "name": "stdout",
          "output_type": "stream",
          "text": [
            "--2025-10-30 13:21:26--  https://nlp-course-cuhksz.github.io/Assignments/Assignment1/task2/data/1.rlhf.jsonl\n",
            "Resolving nlp-course-cuhksz.github.io (nlp-course-cuhksz.github.io)... 185.199.108.153, 185.199.109.153, 185.199.110.153, ...\n",
            "Connecting to nlp-course-cuhksz.github.io (nlp-course-cuhksz.github.io)|185.199.108.153|:443... connected.\n",
            "HTTP request sent, awaiting response... 200 OK\n",
            "Length: 70333 (69K) [application/octet-stream]\n",
            "Saving to: ‘1.rlhf.jsonl.1’\n",
            "\n",
            "\r1.rlhf.jsonl.1        0%[                    ]       0  --.-KB/s               \r1.rlhf.jsonl.1      100%[===================>]  68.68K  --.-KB/s    in 0.008s  \n",
            "\n",
            "2025-10-30 13:21:26 (8.40 MB/s) - ‘1.rlhf.jsonl.1’ saved [70333/70333]\n",
            "\n"
          ]
        },
        {
          "data": {
            "text/plain": [
              "{'Question': 'Human: What are some aspects of religious Islam that are compatible with western civilization?',\n",
              " 'Answer1': \"Assistant: I'm not sure what 'western civilization' means in this context, but if we assume it means the values of modern Western culture, it seems there are many facets of Islamic religious practice that are compatible with those values.  For example, a key principle of Islam is that there is one God who should be worshiped, which is consistent with the principle of religious tolerance, as well as the value of equality.  There are different branches of Islam, but many of them require\",\n",
              " 'Answer2': 'Assistant: Well in a basic sense it is possible for Muslims to live in the Western world and take part in Western civilization. In fact, many Muslims have been at the center of important cultural developments of the last centuries.',\n",
              " 'Preference': 'Answer2'}"
            ]
          },
          "execution_count": 33,
          "metadata": {},
          "output_type": "execute_result"
        }
      ],
      "source": [
        "!wget  https://NLP-course-cuhksz.github.io/Assignments/Assignment1/task2/data/1.rlhf.jsonl\n",
        "\n",
        "import json\n",
        "with open('1.rlhf.jsonl') as f:\n",
        "  data = [json.loads(l) for l in f]\n",
        "data[0] # sample"
      ]
    },
    {
      "cell_type": "code",
      "execution_count": 34,
      "metadata": {
        "colab": {
          "base_uri": "https://localhost:8080/"
        },
        "id": "lTPm1-ngWQ38",
        "outputId": "ec561e7b-58e7-405e-e706-019bb3b63798"
      },
      "outputs": [
        {
          "data": {
            "text/plain": [
              "{'Question': 'Human: What are some aspects of religious Islam that are compatible with western civilization?',\n",
              " 'Answer1': \"Assistant: I'm not sure what 'western civilization' means in this context, but if we assume it means the values of modern Western culture, it seems there are many facets of Islamic religious practice that are compatible with those values.  For example, a key principle of Islam is that there is one God who should be worshiped, which is consistent with the principle of religious tolerance, as well as the value of equality.  There are different branches of Islam, but many of them require\",\n",
              " 'Answer2': 'Assistant: Well in a basic sense it is possible for Muslims to live in the Western world and take part in Western civilization. In fact, many Muslims have been at the center of important cultural developments of the last centuries.',\n",
              " 'Preference': 'Answer2'}"
            ]
          },
          "execution_count": 34,
          "metadata": {},
          "output_type": "execute_result"
        }
      ],
      "source": [
        "data[0]"
      ]
    },
    {
      "cell_type": "code",
      "execution_count": 35,
      "metadata": {
        "colab": {
          "base_uri": "https://localhost:8080/"
        },
        "id": "nci7lKr6rdT8",
        "outputId": "acac717b-d4b3-406e-e249-fc2c19daa930"
      },
      "outputs": [
        {
          "name": "stdout",
          "output_type": "stream",
          "text": [
            "\n",
            "[Question]:\n",
            "Human: What are some aspects of religious Islam that are compatible with western civilization?\n",
            "\n",
            "[Answer1]:\n",
            "Assistant: I'm not sure what 'western civilization' means in this context, but if we assume it means the values of modern Western culture, it seems there are many facets of Islamic religious practice that are compatible with those values.  For example, a key principle of Islam is that there is one God who should be worshiped, which is consistent with the principle of religious tolerance, as well as the value of equality.  There are different branches of Islam, but many of them require\n",
            "\n",
            "[Answer2]:\n",
            "Assistant: Well in a basic sense it is possible for Muslims to live in the Western world and take part in Western civilization. In fact, many Muslims have been at the center of important cultural developments of the last centuries.\n",
            "\n",
            "A good response should be relevant, accurate and helpful. Which is better, Answer1 or Answer2?\n",
            "Do not explain your answer, just output 'Answer1' or 'Answer2'.\n",
            "\n",
            "---- DeepSeek-Chat response ----\n",
            "Answer1\n"
          ]
        }
      ],
      "source": [
        "your_prompt = '''\n",
        "[Question]:\n",
        "{Question}\n",
        "\n",
        "[Answer1]:\n",
        "{Answer1}\n",
        "\n",
        "[Answer2]:\n",
        "{Answer2}\n",
        "\n",
        "A good response should be relevant, accurate and helpful. Which is better, Answer1 or Answer2?\n",
        "Do not explain your answer, just output 'Answer1' or 'Answer2'.\n",
        "'''\n",
        "\n",
        "def get_query(da):\n",
        "  return your_prompt.format_map(da)\n",
        "\n",
        "testdata = data[0]\n",
        "\n",
        "print(get_query(testdata))\n",
        "\n",
        "print(f'---- DeepSeek-Chat response ----')\n",
        "\n",
        "print(chain.invoke(get_query(testdata)))"
      ]
    },
    {
      "cell_type": "code",
      "execution_count": 36,
      "metadata": {
        "colab": {
          "base_uri": "https://localhost:8080/"
        },
        "id": "AeHYMM_rr7aV",
        "outputId": "4d1e0f2b-3617-42fe-ba78-72f5ffc37f38"
      },
      "outputs": [
        {
          "name": "stderr",
          "output_type": "stream",
          "text": [
            "100%|██████████| 10/10 [00:12<00:00,  1.25s/it]"
          ]
        },
        {
          "name": "stdout",
          "output_type": "stream",
          "text": [
            "Model consistency rate with human: 40.00%\n"
          ]
        },
        {
          "name": "stderr",
          "output_type": "stream",
          "text": [
            "\n"
          ]
        }
      ],
      "source": [
        "your_prompt = '''\n",
        "[Question]:\n",
        "{Question}\n",
        "\n",
        "[Answer1]:\n",
        "{Answer1}\n",
        "\n",
        "[Answer2]:\n",
        "{Answer2}\n",
        "\n",
        "A good response should be relevant, accurate and helpful. Which is better, Answer1 or Answer2?\n",
        "Do not explain your answer, just output 'Answer1' or 'Answer2'.\n",
        "'''\n",
        "\n",
        "import re\n",
        "from tqdm import tqdm\n",
        "\n",
        "correct_num = 0\n",
        "total_num = 0\n",
        "for da in tqdm(data[:10]):\n",
        "  da['deepseek_ans'] =  chain.invoke(get_query(da))\n",
        "  if da['deepseek_ans'] == da['Preference']:\n",
        "    correct_num += 1\n",
        "  total_num += 1\n",
        "print(f\"Model consistency rate with human: {correct_num/total_num:.2%}\")"
      ]
    },
    {
      "cell_type": "markdown",
      "metadata": {
        "id": "c_nVCyGLFn6U"
      },
      "source": [
        "<font color=\"blue\">You need to optimize the prompt to improve the performance (consistency rate) of large language models (LLMs).</font>"
      ]
    }
  ],
  "metadata": {
    "colab": {
      "provenance": []
    },
    "kernelspec": {
      "display_name": "base",
      "language": "python",
      "name": "python3"
    },
    "language_info": {
      "name": "python",
      "version": "3.12.7"
    }
  },
  "nbformat": 4,
  "nbformat_minor": 0
}
